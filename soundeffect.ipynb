{
  "nbformat": 4,
  "nbformat_minor": 0,
  "metadata": {
    "colab": {
      "provenance": [],
      "authorship_tag": "ABX9TyPbk55LPjIvHIq8FYeQTs2X",
      "include_colab_link": true
    },
    "kernelspec": {
      "name": "python3",
      "display_name": "Python 3"
    },
    "language_info": {
      "name": "python"
    }
  },
  "cells": [
    {
      "cell_type": "markdown",
      "metadata": {
        "id": "view-in-github",
        "colab_type": "text"
      },
      "source": [
        "<a href=\"https://colab.research.google.com/github/raunakyadav92/soundeffectt/blob/main/soundeffect.ipynb\" target=\"_parent\"><img src=\"https://colab.research.google.com/assets/colab-badge.svg\" alt=\"Open In Colab\"/></a>"
      ]
    },
    {
      "cell_type": "code",
      "execution_count": null,
      "metadata": {
        "id": "MrR4gaFLjYJP"
      },
      "outputs": [],
      "source": [
        "# Initialize mixer for sound\n",
        "pygame.mixer.init()\n",
        "\n",
        "# Load sounds\n",
        "hit_sound = pygame.mixer.Sound('hit.wav')\n",
        "bounce_sound = pygame.mixer.Sound('bounce.wav')\n",
        "score_sound = pygame.mixer.Sound('score.wav')\n"
      ]
    },
    {
      "cell_type": "code",
      "source": [
        "if shuttle.colliderect(player) or shuttle.colliderect(opponent):\n",
        "    shuttle_speed_x *= -1\n",
        "    hit_sound.play()\n"
      ],
      "metadata": {
        "id": "XV05mEAHjape"
      },
      "execution_count": null,
      "outputs": []
    },
    {
      "cell_type": "code",
      "source": [
        "if shuttle.colliderect(player) or shuttle.colliderect(opponent):\n",
        "    shuttle_speed_x *= -1\n",
        "    hit_sound.play()\n"
      ],
      "metadata": {
        "id": "BUazAgOijcMW"
      },
      "execution_count": null,
      "outputs": []
    },
    {
      "cell_type": "code",
      "source": [
        "if shuttle.left <= 0:\n",
        "    opponent_score += 1\n",
        "    score_sound.play()\n",
        "    reset_shuttle()\n",
        "\n",
        "if shuttle.right >= WIDTH:\n",
        "    player_score += 1\n",
        "    score_sound.play()\n",
        "    reset_shuttle()\n"
      ],
      "metadata": {
        "id": "PiqSJCWojeKe"
      },
      "execution_count": null,
      "outputs": []
    }
  ]
}